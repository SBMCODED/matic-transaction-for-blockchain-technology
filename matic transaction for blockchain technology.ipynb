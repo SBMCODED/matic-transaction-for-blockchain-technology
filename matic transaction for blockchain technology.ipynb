{
 "cells": [
  {
   "cell_type": "code",
   "execution_count": 1,
   "id": "6118532f",
   "metadata": {},
   "outputs": [
    {
     "name": "stdout",
     "output_type": "stream",
     "text": [
      "Transaction sent! Transaction hash: 0xe80f1284517ab19aea4f0e3bae16636b99b2fccd5b187f09bb1ad4cb571a2d3c\n"
     ]
    }
   ],
   "source": [
    "from web3 import Web3\n",
    "from web3.middleware import geth_poa_middleware\n",
    "\n",
    "# Connect to Matic network\n",
    "matic_rpc = \"HTTP://127.0.0.1:7545\"  # Use the appropriate Matic RPC URL\n",
    "web3 = Web3(Web3.HTTPProvider(matic_rpc))\n",
    "web3.middleware_onion.inject(geth_poa_middleware, layer=0)\n",
    "\n",
    "# Set your account and private key\n",
    "account = \"0x4734774C267A30DBE754DB964d7f97be4fa2324e\"\n",
    "private_key = \"0x657dc152c959c710cbb7a29bc6f1a1ffd553e81c76e6d5b92f7bfd91a06beb2b\"\n",
    "\n",
    "# Define the recipient address and amount to send\n",
    "recipient_address = \"0xA7f5D01BB82ec15a6Eb734474b06f9B684bb3C03\"\n",
    "amount_wei = web3.to_wei(0.1, 'ether')  # Sending 0.1 MATIC (in Wei)\n",
    "\n",
    "# Create the transaction\n",
    "nonce = web3.eth.get_transaction_count(account)\n",
    "gas_price = web3.to_wei('5', 'gwei')  # Adjust the gas price as needed\n",
    "\n",
    "transaction = {\n",
    "    'to': recipient_address,\n",
    "    'value': amount_wei,\n",
    "    'gas': 2000000,  # Adjust the gas limit as needed\n",
    "    'gasPrice': gas_price,\n",
    "    'nonce': nonce,\n",
    "}\n",
    "\n",
    "# Sign the transaction\n",
    "signed_transaction = web3.eth.account.sign_transaction(transaction, private_key)\n",
    "\n",
    "# Send the transaction\n",
    "tx_hash = web3.eth.send_raw_transaction(signed_transaction.rawTransaction)\n",
    "\n",
    "print(f'Transaction sent! Transaction hash: {web3.to_hex(tx_hash)}')\n"
   ]
  },
  {
   "cell_type": "code",
   "execution_count": null,
   "id": "afd40b01",
   "metadata": {},
   "outputs": [],
   "source": [
    "."
   ]
  }
 ],
 "metadata": {
  "kernelspec": {
   "display_name": "Python 3 (ipykernel)",
   "language": "python",
   "name": "python3"
  },
  "language_info": {
   "codemirror_mode": {
    "name": "ipython",
    "version": 3
   },
   "file_extension": ".py",
   "mimetype": "text/x-python",
   "name": "python",
   "nbconvert_exporter": "python",
   "pygments_lexer": "ipython3",
   "version": "3.10.2"
  }
 },
 "nbformat": 4,
 "nbformat_minor": 5
}
